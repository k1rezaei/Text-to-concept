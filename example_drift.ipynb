{
 "cells": [
  {
   "cell_type": "markdown",
   "id": "d44c330f",
   "metadata": {},
   "source": [
    "## Concept Drift\n",
    "In this notebook, we provide another use-case of our method.\n",
    "We use a Resnet50 model (pre-trained on ImageNet) and leverage Text-To-Concept to:\n",
    "+ check the s finding images which have some concepts (e.g., \"a bear in trees\").\n",
    "\n",
    "This notebook has these sections:\n",
    "+ <i>Preliminaries</i>: we import required libraries and load transformations.\n",
    "+ <i>Resnet50</i>: we load the model and implement its necessary functions, enabling us to use `TextToConcept`.\n",
    "+ <i>Linear Aligner</i>: we initiate `TextToConcept` object and load its linear aligner.\n",
    "+ <i>Detect Drift</i>: we load ImageNet validation set and divide it into to halves:\n",
    "    + the goal is to see if these two halves are different w.r.t. concept `indoors`."
   ]
  },
  {
   "cell_type": "markdown",
   "id": "91eff671",
   "metadata": {},
   "source": [
    "### Preliminaries\n",
    "In this section, we import the required libraries and initialize standard transformations necessary for loading datasets. It is worth mentioning that certain models require input normalization, while others do not."
   ]
  },
  {
   "cell_type": "code",
   "execution_count": 1,
   "id": "c6632d9f",
   "metadata": {},
   "outputs": [],
   "source": [
    "%load_ext autoreload\n",
    "%autoreload 2\n",
    "\n",
    "from PIL import Image\n",
    "import glob\n",
    "import torchvision\n",
    "import numpy as np\n",
    "from torchvision import transforms, datasets\n",
    "import json\n",
    "from tqdm import tqdm\n",
    "import torch\n",
    "import pickle\n",
    "from TextToConcept import TextToConcept\n",
    "from my_utils import imagenet_classes"
   ]
  },
  {
   "cell_type": "code",
   "execution_count": 2,
   "id": "c77694a4",
   "metadata": {},
   "outputs": [],
   "source": [
    "IMAGENET_MEAN = [0.485, 0.456, 0.406]\n",
    "IMAGENET_STD = [0.229, 0.224, 0.225]\n",
    "transform = torchvision.transforms.Compose([torchvision.transforms.Resize(224),\n",
    "                                            torchvision.transforms.CenterCrop(224),\n",
    "                                            torchvision.transforms.ToTensor(), \n",
    "                                            torchvision.transforms.Normalize(mean=IMAGENET_MEAN, std=IMAGENET_STD)])"
   ]
  },
  {
   "cell_type": "markdown",
   "id": "7e45086a",
   "metadata": {},
   "source": [
    "### Resnet50\n",
    "In this part, we load Resnet50 model."
   ]
  },
  {
   "cell_type": "code",
   "execution_count": null,
   "id": "5586b321",
   "metadata": {},
   "outputs": [],
   "source": [
    "model = torchvision.models.resnet50(pretrained=True)\n",
    "encoder = torch.nn.Sequential(*list(model.children())[:-1])\n",
    "model.forward_features = lambda x : encoder(x)\n",
    "model.get_normalizer = torchvision.transforms.Normalize(mean=IMAGENET_MEAN, std=IMAGENET_STD)\n",
    "model.has_normalizer = True"
   ]
  },
  {
   "cell_type": "markdown",
   "id": "5f96688d",
   "metadata": {},
   "source": [
    "### Linear Aligner\n",
    "In this section, we initiate ``TextToConcept`` object."
   ]
  },
  {
   "cell_type": "code",
   "execution_count": 4,
   "id": "a1c6a4b3",
   "metadata": {},
   "outputs": [],
   "source": [
    "text_to_concept = TextToConcept(model, 'resnet50')\n",
    "path = 'imagenet_resnet50_aligner.pth'\n",
    "text_to_concept.load_linear_aligner(path)"
   ]
  },
  {
   "cell_type": "markdown",
   "id": "80d04001",
   "metadata": {},
   "source": [
    "### Detect Drift\n",
    "we load ImageNet validation set and divide it into to halves and run `detect_drift` function w.r.t concept `indoors`."
   ]
  },
  {
   "cell_type": "code",
   "execution_count": 5,
   "id": "fc40c2be",
   "metadata": {},
   "outputs": [],
   "source": [
    "dset = torchvision.datasets.ImageNet(root='/fs/cml-datasets/ImageNet/ILSVRC2012', split='val', transform=transform)\n",
    "\n",
    "dset1 = torch.utils.data.Subset(dset, np.arange(25000))\n",
    "dset2 = torch.utils.data.Subset(dset, np.arange(25000, 50000))"
   ]
  },
  {
   "cell_type": "code",
   "execution_count": 6,
   "id": "20022887",
   "metadata": {},
   "outputs": [
    {
     "name": "stderr",
     "output_type": "stream",
     "text": [
      "100%|████████████████████████████████████████████████████████████████████████████████████████| 3125/3125 [01:37<00:00, 31.90it/s]\n",
      "100%|████████████████████████████████████████████████████████████████████████████████████████| 3125/3125 [01:26<00:00, 36.26it/s]\n"
     ]
    }
   ],
   "source": [
    "template = 'a photo of a {} indoors'\n",
    "t_test, _1, _2 = text_to_concept.detect_drift(dset1, 'imagenet_val_1st', dset2, 'imagenet_val_2nd',\n",
    "                                                   prompts=[template.format(c) for c in imagenet_classes])    "
   ]
  },
  {
   "cell_type": "markdown",
   "id": "00863c42",
   "metadata": {},
   "source": [
    "#### Results\n",
    "`t-test` results can be found in the next section. it seems these two halves are different!"
   ]
  },
  {
   "cell_type": "code",
   "execution_count": 7,
   "id": "52686d76",
   "metadata": {},
   "outputs": [
    {
     "data": {
      "text/plain": [
       "[26.84267902610349, 1.3530698980865225e-157]"
      ]
     },
     "execution_count": 7,
     "metadata": {},
     "output_type": "execute_result"
    }
   ],
   "source": [
    "t_test"
   ]
  },
  {
   "cell_type": "code",
   "execution_count": 19,
   "id": "f0b81ba1",
   "metadata": {},
   "outputs": [
    {
     "data": {
      "text/plain": [
       "<matplotlib.legend.Legend at 0x7f230da33d30>"
      ]
     },
     "execution_count": 19,
     "metadata": {},
     "output_type": "execute_result"
    },
    {
     "data": {
      "image/png": "[encoded data removed]",
      "text/plain": [
       "<Figure size 640x480 with 1 Axes>"
      ]
     },
     "metadata": {},
     "output_type": "display_data"
    }
   ],
   "source": [
    "import matplotlib.pyplot as plt\n",
    "plt.hist(_1, label='1st half', density=True, bins=40, alpha=0.5)\n",
    "plt.hist(_2, label='2nd half', density=True, bins=40, alpha=0.5)\n",
    "plt.legend()"
   ]
  },
  {
   "cell_type": "code",
   "execution_count": null,
   "id": "a63f189f",
   "metadata": {},
   "outputs": [],
   "source": []
  }
 ],
 "metadata": {
  "kernelspec": {
   "display_name": "Python 3 (ipykernel)",
   "language": "python",
   "name": "python3"
  },
  "language_info": {
   "codemirror_mode": {
    "name": "ipython",
    "version": 3
   },
   "file_extension": ".py",
   "mimetype": "text/x-python",
   "name": "python",
   "nbconvert_exporter": "python",
   "pygments_lexer": "ipython3",
   "version": "3.8.10"
  }
 },
 "nbformat": 4,
 "nbformat_minor": 5
}
